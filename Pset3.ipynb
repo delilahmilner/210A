{
 "cells": [
  {
   "cell_type": "code",
   "execution_count": 1,
   "id": "ebb49fcf",
   "metadata": {},
   "outputs": [
    {
     "data": {
      "text/plain": [
       "'  Template for calculating a potential curve \\n        using psi4 as a python module\\n  \\n    Starting point for Chem 210A problems -- CWM November 1, 2017\\n    Modifications January 5 2020 and notes on guesses for UHF and HF\\n    calculations\\n\\n    This starter script is set up to do Unrestricted Hartree Fock (UHF)\\n    calculation. That calculation breaks spin symmetry for internuclear\\n    distances greater than the Coulson-Fisher point, but gives the ordinary\\n    restricted Hartree-Fock solution for shorter internuclear distances\\n\\n    Two changes do the Restricted Hartree Fock (RHF) calculation instead\\n   \\n    Minor changes allow MP2 and CISD calculations on this and other diatomics\\n    With suitable modifications this template can be used to calculate a bond \\n    stretching curve for one bond in a polyatomic molecule.\\n      \\n'"
      ]
     },
     "execution_count": 1,
     "metadata": {},
     "output_type": "execute_result"
    }
   ],
   "source": [
    "#%%\n",
    "#            Chem 210A  begun 2017  Prof. McCurdy\n",
    "#\n",
    "\"\"\"  Template for calculating a potential curve \n",
    "        using psi4 as a python module\n",
    "  \n",
    "    Starting point for Chem 210A problems -- CWM November 1, 2017\n",
    "    Modifications January 5 2020 and notes on guesses for UHF and HF\n",
    "    calculations\n",
    "\n",
    "    This starter script is set up to do Unrestricted Hartree Fock (UHF)\n",
    "    calculation. That calculation breaks spin symmetry for internuclear\n",
    "    distances greater than the Coulson-Fisher point, but gives the ordinary\n",
    "    restricted Hartree-Fock solution for shorter internuclear distances\n",
    "\n",
    "    Two changes do the Restricted Hartree Fock (RHF) calculation instead\n",
    "   \n",
    "    Minor changes allow MP2 and CISD calculations on this and other diatomics\n",
    "    With suitable modifications this template can be used to calculate a bond \n",
    "    stretching curve for one bond in a polyatomic molecule.\n",
    "      \n",
    "\"\"\""
   ]
  },
  {
   "cell_type": "code",
   "execution_count": 2,
   "id": "c40f18c4",
   "metadata": {},
   "outputs": [
    {
     "name": "stdout",
     "output_type": "stream",
     "text": [
      "testing\n",
      "psi4 output is directed to  aug-cc-pvQZ_output_diatomic.txt \n",
      "\n"
     ]
    }
   ],
   "source": [
    "#%%\n",
    "#                    IMPORT MODULES\n",
    "#\n",
    "import psi4  #  import all of psi4\n",
    "import re as re   #  regular expression library -- used to modify the geometry object by replacing \n",
    "                  #  a symbol with a number\n",
    "import numpy as np # numpy library for square roots etc.in gemometry and unit manipulations\n",
    "psi4.set_memory('2048 MB')           # minimum memory should be 1 GB. Generally  2GB or greater is better\n",
    "filestring = 'aug-cc-pvQZ_output_diatomic.txt'   # file for complete output from Psi4 -- overwritten if it exists. \n",
    "psi4.core.set_output_file(filestring,False) \n",
    "#filestring_plot = 'potcurve.dat'      # file for output of potential curve for plotting - see below.\n",
    "from datascience import*                                  # overwritten if it exists.\n",
    "import matplotlib.pyplot as plt\n",
    "%matplotlib inline\n",
    "plt.style.use('fast')\n",
    "import os     # operating system commands for manipulating files\n",
    "print(\"testing\")\n",
    "print(\"psi4 output is directed to \",filestring,\"\\n\")\n",
    "#"
   ]
  },
  {
   "cell_type": "code",
   "execution_count": 3,
   "id": "f7fae754",
   "metadata": {},
   "outputs": [],
   "source": [
    "#%%\n",
    "#                    SPECIFY GEOMETRY PYTHON OBJECT\n",
    "#\n",
    "# R_value  =  the internuclear distance in a0\n",
    "# and must be replaced by a number using the regular expression functions\n",
    "# in the loop on distances.\n",
    "#\n",
    "# NOTE to use UHF guess_mix true option, we must use c1 symmetry\n",
    "# (no symmetry) just as we must when doing geometry optimizations \n",
    "#\n",
    "# Specifying cartesian coordinates in this example, type of atom\n",
    "# and its charge are specified by the chemical symbol\n",
    "# first line is charge and spin multiplicity 1 = singlet \n",
    "# 3 = triplet and requires ROHF ('rohf' reference for 'scf' below)\n",
    "# c1 = C_1 symmetry (no symmetry) OK for RHF and necessary for UHF\n",
    "# For linear molecules try c2v symmetry, which should be faster and\n",
    "# will label orbital energies with symmetries in this point group"
   ]
  },
  {
   "cell_type": "code",
   "execution_count": 4,
   "id": "2b7410f7",
   "metadata": {},
   "outputs": [
    {
     "name": "stdout",
     "output_type": "stream",
     "text": [
      "\n",
      "      0 1 \n",
      "      H  0.0 0.0 0.0 \n",
      "      F  0.0 0.0 1.73\n",
      "    units bohr\n",
      "    symmetry c1 \n"
     ]
    }
   ],
   "source": [
    "# 1.73 to R_value\n",
    "# H to F\n",
    "h2_geometry  =  \"\"\"\n",
    "      0 1 \n",
    "      H  0.0 0.0 0.0 \n",
    "      F  0.0 0.0 1.73\n",
    "    units bohr\n",
    "    symmetry c1 \"\"\"\n",
    "\n",
    "#   print the geometry \n",
    "print(h2_geometry)\n",
    "#\n",
    "#  parameters for the curve\n",
    "#"
   ]
  },
  {
   "cell_type": "code",
   "execution_count": 5,
   "id": "eb209a31",
   "metadata": {},
   "outputs": [],
   "source": [
    "\n",
    "#\n",
    "N_Rvals = 61  # when debugging use a small number of R values\n",
    "Rmin = 1.0\n",
    "Rmax = 10.0\n",
    "dr = (Rmax-Rmin)/(N_Rvals-1)\n",
    "#\n",
    "#  psi4 options that do not change with R value\n",
    "# \n",
    "#                               BASIS SET\n",
    "#  cc-pVDZ is a small correlation consistent Dunning basis - good for first calculation.\n",
    "#  (Sometimes won't be  good enough for Chem 210A final answers\n",
    "#  but for UHF larger basis sets sometimes harder to converge to \n",
    "#  spin symmetry broken result. Options given here work for double zeta and \n",
    "#  triple zeta correlation consistent basis sets for H2)\n",
    "#\n",
    "psi4.set_options({'basis': 'aug-cc-pvQZ'}) \n",
    "#                        METHOD OR REFERENCE METHOD \n",
    "#   Method, and/or  reference for CI or MP2 calculations is set here\n",
    "psi4.set_options({\"reference\": \"rhf\"})  # change \"uhf\" to \"rhf\" for restricted HF\n",
    "#\n",
    "#                          SCF INITIAL GUESS\n",
    "#  initial guess options for SCF, very important for UHF and sometimes ROHF\n",
    "#\n",
    "#psi4.set_options({'guess': 'read'})  #  can be used to follow a solution as R changes\n",
    "#\n",
    "#   guess_mix gives a guess that mixes alpha and beta spin orbitals to allow \n",
    "#   UHF to find the spin broken solution(s) \n",
    "psi4.set_options({\"guess_mix\": 'true'})\n",
    "#\n",
    "#   guess: core good for closed shell restricted Hartree-Fock \n",
    "#   should replace guess:  sad below for restricted Hartree-Fock \n",
    "#psi4.set_options({'guess': 'core'})    # diagonalize core (nuclear attraction only) Hamiltonian  guess\n",
    "#\n",
    "#  some other guess options that help converge UHF calculations \n",
    "psi4.set_options({'guess': 'sad'})    # superposition of atomic densities (SAD) guess\n",
    "psi4.set_options({\"SOSCF\": 'true'})   #  second order scf is quadratically convergent algorithm\n",
    "psi4.set_options({\"MAXITER\": 500})  "
   ]
  },
  {
   "cell_type": "code",
   "execution_count": 6,
   "id": "d23d214b",
   "metadata": {},
   "outputs": [
    {
     "name": "stdout",
     "output_type": "stream",
     "text": [
      "R =  1.0    psi4.energy    -100.06862706351703\n",
      "R =  1.15    psi4.energy    -100.06862706351684\n",
      "R =  1.3    psi4.energy    -100.06862706351686\n",
      "R =  1.45    psi4.energy    -100.0686270635168\n",
      "R =  1.6    psi4.energy    -100.06862706351681\n",
      "R =  1.75    psi4.energy    -100.06862706351677\n",
      "R =  1.9    psi4.energy    -100.06862706351697\n",
      "R =  2.05    psi4.energy    -100.06862706351696\n",
      "R =  2.2    psi4.energy    -100.06862706351698\n",
      "R =  2.3499999999999996    psi4.energy    -100.068627063517\n",
      "R =  2.5    psi4.energy    -100.06862706351696\n",
      "R =  2.65    psi4.energy    -100.06862706351683\n",
      "R =  2.8    psi4.energy    -100.068627063517\n",
      "R =  2.95    psi4.energy    -100.06862706351697\n",
      "R =  3.1    psi4.energy    -100.06862706351694\n",
      "R =  3.25    psi4.energy    -100.06862706351704\n",
      "R =  3.4    psi4.energy    -100.06862706351684\n",
      "R =  3.55    psi4.energy    -100.06862706351683\n",
      "R =  3.6999999999999997    psi4.energy    -100.06862706351677\n",
      "R =  3.85    psi4.energy    -100.06862706351694\n",
      "R =  4.0    psi4.energy    -100.06862706351686\n",
      "R =  4.15    psi4.energy    -100.06862706351698\n",
      "R =  4.3    psi4.energy    -100.0686270635168\n",
      "R =  4.449999999999999    psi4.energy    -100.06862706351683\n",
      "R =  4.6    psi4.energy    -100.06862706351694\n",
      "R =  4.75    psi4.energy    -100.06862706351686\n",
      "R =  4.9    psi4.energy    -100.06862706351691\n",
      "R =  5.05    psi4.energy    -100.06862706351707\n",
      "R =  5.2    psi4.energy    -100.06862706351698\n",
      "R =  5.35    psi4.energy    -100.06862706351694\n",
      "R =  5.5    psi4.energy    -100.06862706351667\n",
      "R =  5.6499999999999995    psi4.energy    -100.06862706351697\n",
      "R =  5.8    psi4.energy    -100.06862706351677\n",
      "R =  5.95    psi4.energy    -100.06862706351683\n",
      "R =  6.1    psi4.energy    -100.06862706351694\n",
      "R =  6.25    psi4.energy    -100.06862706351671\n",
      "R =  6.3999999999999995    psi4.energy    -100.06862706351693\n",
      "R =  6.55    psi4.energy    -100.06862706351689\n",
      "R =  6.7    psi4.energy    -100.06862706351669\n",
      "R =  6.85    psi4.energy    -100.06862706351681\n",
      "R =  7.0    psi4.energy    -100.06862706351677\n",
      "R =  7.1499999999999995    psi4.energy    -100.06862706351716\n",
      "R =  7.3    psi4.energy    -100.06862706351683\n",
      "R =  7.45    psi4.energy    -100.06862706351693\n",
      "R =  7.6    psi4.energy    -100.06862706351694\n",
      "R =  7.75    psi4.energy    -100.06862706351694\n",
      "R =  7.8999999999999995    psi4.energy    -100.06862706351703\n",
      "R =  8.05    psi4.energy    -100.06862706351694\n",
      "R =  8.2    psi4.energy    -100.06862706351686\n",
      "R =  8.35    psi4.energy    -100.06862706351673\n",
      "R =  8.5    psi4.energy    -100.06862706351686\n",
      "R =  8.649999999999999    psi4.energy    -100.06862706351683\n",
      "R =  8.8    psi4.energy    -100.06862706351681\n",
      "R =  8.95    psi4.energy    -100.06862706351696\n",
      "R =  9.1    psi4.energy    -100.06862706351686\n",
      "R =  9.25    psi4.energy    -100.06862706351689\n",
      "R =  9.4    psi4.energy    -100.06862706351701\n",
      "R =  9.549999999999999    psi4.energy    -100.06862706351683\n",
      "R =  9.7    psi4.energy    -100.068627063517\n",
      "R =  9.85    psi4.energy    -100.06862706351684\n",
      "R =  10.0    psi4.energy    -100.06862706351674\n"
     ]
    }
   ],
   "source": [
    "Rvals=[]\n",
    "Calculated_Energies=[]\n",
    "#\n",
    "#%%\n",
    "# LOOP over R values \n",
    "#\n",
    "for n in range(N_Rvals):\n",
    "    R = Rmin + n*dr\n",
    "#\n",
    "    psi4.set_options({'guess': 'read'})  #  can be used to follow a solution as R changes\n",
    "#                                     #  if we put an if statement here to use this option\n",
    "#                                     #  for n > 0, after first starting orbitals are defined\n",
    "#\n",
    "# The following command substitutes a string made from the value of the\n",
    "# variable R for the the string \"R_value\" in the python object h2_geometry\n",
    "# to make a new object h2_geo_R .  It can be applied several times\n",
    "# in succession, renaming the result each time, to replace several \n",
    "# strings to create a new geometry object\n",
    "#\n",
    "    h2_geo_R = re.sub(\"R_value\",str(R),h2_geometry)\n",
    "#\n",
    "#    print(h2_geo_R)  # print current geometry -- uncomment for debugging\n",
    "#\n",
    "#  method is specified here 'scf' assumes a reference to have been set\n",
    "#  rhf rohf uhf for example\n",
    "#  'mp2'  also requires a reference (like rhf) as does 'cisd'\n",
    "#\n",
    "    finalenergy=psi4.energy('scf',molecule=psi4.geometry(h2_geo_R) )\n",
    "    print(\"R = \",R,\"   psi4.energy   \", finalenergy)\n",
    "    Rvals.append(R)\n",
    "    Calculated_Energies.append(finalenergy)\n",
    "#\n",
    "#%%\n",
    "#                   MAKE OUTPUT FILE FOR PLOTTING\n",
    "#  at the end of the for loop both print and make a file\n",
    "#  containing the scf energies\n",
    "#"
   ]
  },
  {
   "cell_type": "code",
   "execution_count": 40,
   "id": "ed775020",
   "metadata": {},
   "outputs": [
    {
     "data": {
      "text/plain": [
       "0.42620000000000036"
      ]
     },
     "execution_count": 40,
     "metadata": {},
     "output_type": "execute_result"
    }
   ],
   "source": [
    "100.0195-99.573-0.0203"
   ]
  },
  {
   "cell_type": "code",
   "execution_count": null,
   "id": "0bff0649",
   "metadata": {},
   "outputs": [],
   "source": []
  },
  {
   "cell_type": "code",
   "execution_count": 114,
   "id": "f8d0fd8a",
   "metadata": {},
   "outputs": [
    {
     "data": {
      "image/png": "[encoded data removed]",
      "text/plain": [
       "<Figure size 432x288 with 1 Axes>"
      ]
     },
     "metadata": {
      "needs_background": "light"
     },
     "output_type": "display_data"
    }
   ],
   "source": [
    "Table_of_energies = Table().with_columns(\"R\",Rvals,\"Calculated_Energies\", Calculated_Energies)\n",
    "Table_of_energies.plot(0)"
   ]
  },
  {
   "cell_type": "code",
   "execution_count": 115,
   "id": "69a04a2d",
   "metadata": {},
   "outputs": [
    {
     "data": {
      "text/html": [
       "<table border=\"1\" class=\"dataframe\">\n",
       "    <thead>\n",
       "        <tr>\n",
       "            <th>R</th> <th>Calculated_Energies</th>\n",
       "        </tr>\n",
       "    </thead>\n",
       "    <tbody>\n",
       "        <tr>\n",
       "            <td>1.75</td> <td>-100.019           </td>\n",
       "        </tr>\n",
       "    </tbody>\n",
       "</table>\n",
       "<p>... (60 rows omitted)</p>"
      ],
      "text/plain": [
       "<IPython.core.display.HTML object>"
      ]
     },
     "metadata": {},
     "output_type": "display_data"
    }
   ],
   "source": [
    "rmin = Table_of_energies.sort(\"Calculated_Energies\").show(1)\n",
    "rmin"
   ]
  },
  {
   "cell_type": "code",
   "execution_count": null,
   "id": "43f48ec6",
   "metadata": {},
   "outputs": [],
   "source": []
  },
  {
   "cell_type": "code",
   "execution_count": 76,
   "id": "70def940",
   "metadata": {},
   "outputs": [
    {
     "data": {
      "text/plain": [
       "10.0"
      ]
     },
     "execution_count": 76,
     "metadata": {},
     "output_type": "execute_result"
    }
   ],
   "source": [
    "R"
   ]
  },
  {
   "cell_type": "code",
   "execution_count": null,
   "id": "493e59dd",
   "metadata": {},
   "outputs": [],
   "source": [
    "f = open(filestring_plot,'w')  # rename this file for the case at hand\n",
    "for n in range(N_Rvals):\n",
    "    print(Rvals[n],\"   \",Calculated_Energies[n])\n",
    "    print(Rvals[n],\"   \",Calculated_Energies[n],file=f)\n",
    "#\n",
    "#%%\n",
    "#\n",
    "#  MAKE PLOTS FROM THE OUTPUT FILE OR PUT PLOTTING COMMANDS HERE\n",
    "#  FOR A PROPERLY LABELED GRAPH \n",
    "#  plotting with xmgrace or other plotting code is recommended, and easier than plotting\n",
    "#  several cases from this python script.  However, by doing several cases and saving the \n",
    "#  data in arrays, all plots can be made using python in a self contained script built on\n",
    "#  this starter.\n",
    "#\n",
    "exit()"
   ]
  },
  {
   "cell_type": "code",
   "execution_count": null,
   "id": "34db83ae",
   "metadata": {},
   "outputs": [],
   "source": []
  },
  {
   "cell_type": "code",
   "execution_count": null,
   "id": "8737a891",
   "metadata": {},
   "outputs": [],
   "source": []
  },
  {
   "cell_type": "code",
   "execution_count": null,
   "id": "512a7c20",
   "metadata": {},
   "outputs": [],
   "source": []
  }
 ],
 "metadata": {
  "kernelspec": {
   "display_name": "Python 3 (ipykernel)",
   "language": "python",
   "name": "python3"
  },
  "language_info": {
   "codemirror_mode": {
    "name": "ipython",
    "version": 3
   },
   "file_extension": ".py",
   "mimetype": "text/x-python",
   "name": "python",
   "nbconvert_exporter": "python",
   "pygments_lexer": "ipython3",
   "version": "3.10.11"
  }
 },
 "nbformat": 4,
 "nbformat_minor": 5
}
