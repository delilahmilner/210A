{
 "cells": [
  {
   "cell_type": "code",
   "execution_count": 11,
   "metadata": {},
   "outputs": [],
   "source": [
    "# preliminaries to invoke SciPy linear algebra functions \n",
    "from scipy import linalg as LA\n",
    "# and NumPy which is used to define pi, sqrt, array, .transpose etc.\n",
    "import numpy as np\n",
    "#%%\n",
    "#"
   ]
  },
  {
   "cell_type": "code",
   "execution_count": 12,
   "metadata": {},
   "outputs": [],
   "source": [
    "# FOR PART A"
   ]
  },
  {
   "cell_type": "code",
   "execution_count": 13,
   "metadata": {},
   "outputs": [],
   "source": [
    "parta = 5\n",
    "alphas = np.array([33.865, 5.09479,1.15879,0.32584,0.1027410])\n",
    "\n",
    "def Hkla(k,l):\n",
    "    Ttop =3*((alphas[k]*alphas[l]))*np.sqrt(np.pi)*4*np.pi  \n",
    "    T_bottom = 4*((alphas[k]+alphas[l])**(5/2))\n",
    "    kinetic = Ttop/T_bottom\n",
    "    Vtop = -1*4*np.pi\n",
    "    V_bottom = 2*(alphas[k]+alphas[l])\n",
    "    potential = Vtop/V_bottom\n",
    "    Hamiltonian  = kinetic+potential\n",
    "    return Hamiltonian\n",
    "\n",
    "# define a function with a (symmetric) but otherwise\n",
    "# similarly random formula for ovelap  matrix elements \n",
    "def Skla(k,l):\n",
    "    top = np.pi*4*((np.sqrt(np.pi)))\n",
    "    bottom = 4*((alphas[k]+alphas[l])**(3/2))\n",
    "    return top/bottom\n",
    "\n",
    "def EnergyStatesa (dimentions,the_alphas):\n",
    "\n",
    "    Hama = np.identity(dimentions)\n",
    "    Smata = np.identity(dimentions)\n",
    "    for k in range(dimentions):\n",
    "        for l in range(dimentions):\n",
    "            Hama[k,l] = Hkla(k,l)\n",
    "            Smata[k,l] = Skla(k,l)\n",
    "                \n",
    "    return LA.eigvalsh(Hama,Smata)"
   ]
  },
  {
   "cell_type": "code",
   "execution_count": 24,
   "metadata": {},
   "outputs": [
    {
     "data": {
      "text/plain": [
       "array([-4.99809815e-01,  2.28336366e-02,  1.49159796e+00,  8.95840331e+00,\n",
       "        6.06133586e+01])"
      ]
     },
     "execution_count": 24,
     "metadata": {},
     "output_type": "execute_result"
    }
   ],
   "source": [
    "calculated_hydrogen = EnergyStatesa (5,alphas)\n",
    "calculated_hydrogen"
   ]
  },
  {
   "cell_type": "code",
   "execution_count": 27,
   "metadata": {},
   "outputs": [
    {
     "data": {
      "text/plain": [
       "0.038036945338604244"
      ]
     },
     "execution_count": 27,
     "metadata": {},
     "output_type": "execute_result"
    }
   ],
   "source": [
    "calculated_value = calculated_hydrogen[0]\n",
    "calculated_value\n",
    "exact_value = -0.5\n",
    "percent_error = ((exact_value-calculated_value)/exact_value)*100\n",
    "percent_error"
   ]
  },
  {
   "cell_type": "code",
   "execution_count": 148,
   "metadata": {},
   "outputs": [],
   "source": [
    "alphasb = []\n",
    "for i in np.arange(0,21):\n",
    "    alphasb.append(200/(2.5**i))"
   ]
  },
  {
   "cell_type": "code",
   "execution_count": null,
   "metadata": {},
   "outputs": [],
   "source": []
  },
  {
   "cell_type": "code",
   "execution_count": 149,
   "metadata": {},
   "outputs": [],
   "source": [
    "partb = np.arange(10,21)\n",
    "\n",
    "def Hklb(k,l):\n",
    "    Ttop =3*((alphasb[k]*alphasb[l]))*np.sqrt(np.pi)*4*np.pi  \n",
    "    T_bottom = 4*((alphasb[k]+alphasb[l])**(5/2))\n",
    "    kinetic = Ttop/T_bottom\n",
    "    Vtop = -1*4*np.pi\n",
    "    V_bottom = 2*(alphasb[k]+alphasb[l])\n",
    "    potential = Vtop/V_bottom\n",
    "    Hamiltonian  = kinetic+potential\n",
    "    return Hamiltonian\n",
    "\n",
    "# define a function with a (symmetric) but otherwise\n",
    "# similarly random formula for ovelap  matrix elements \n",
    "def Sklb(k,l):\n",
    "    top = np.pi*4*((np.sqrt(np.pi)))\n",
    "    bottom = 4*((alphasb[k]+alphasb[l])**(3/2))\n",
    "    return top/bottom\n",
    "\n",
    "def EnergyStatesb(dimentions,the_alphas):\n",
    "\n",
    "    Hamb = np.identity(dimentions)\n",
    "    Smatb = np.identity(dimentions)\n",
    "    for k in range(dimentions):\n",
    "        for l in range(dimentions):\n",
    "            Hamb[k,l] = Hklb(k,l)\n",
    "            Smatb[k,l] = Sklb(k,l)\n",
    "                \n",
    "    return LA.eigvalsh(Hamb,Smatb)"
   ]
  },
  {
   "cell_type": "code",
   "execution_count": 150,
   "metadata": {},
   "outputs": [],
   "source": [
    "the_dimensions = np.arange(10,21)"
   ]
  },
  {
   "cell_type": "code",
   "execution_count": null,
   "metadata": {},
   "outputs": [],
   "source": []
  },
  {
   "cell_type": "code",
   "execution_count": 151,
   "metadata": {},
   "outputs": [],
   "source": [
    "fromdimention10to20 = []\n",
    "for i in np.arange(10,21):\n",
    "    fromdimention10to20.append(EnergyStatesb((i),alphasb[0:i]))"
   ]
  },
  {
   "cell_type": "code",
   "execution_count": 152,
   "metadata": {},
   "outputs": [
    {
     "data": {
      "text/plain": [
       "[array([-4.99991632e-01, -1.04462525e-01,  2.72672692e-01,  1.43827902e+00,\n",
       "         4.71446110e+00,  1.34740424e+01,  3.63579112e+01,  9.55267229e+01,\n",
       "         2.51229344e+02,  6.86620498e+02]),\n",
       " array([-4.99991782e-01, -1.24780694e-01, -4.97769592e-03,  3.60013484e-01,\n",
       "         1.51609363e+00,  4.78512380e+00,  1.35395588e+01,  3.64194380e+01,\n",
       "         9.55849002e+01,  2.51284539e+02,  6.86672770e+02]),\n",
       " array([-4.99991794e-01, -1.24995381e-01, -5.39628868e-02,  3.55284891e-02,\n",
       "         3.94309016e-01,  1.54606070e+00,  4.81221236e+00,  1.35646406e+01,\n",
       "         3.64429823e+01,  9.56071598e+01,  2.51305656e+02,  6.86692768e+02]),\n",
       " array([-4.99991795e-01, -1.24995814e-01, -5.55072779e-02, -2.90121571e-02,\n",
       "         5.16770012e-02,  4.07529578e-01,  1.55754759e+00,  4.82258224e+00,\n",
       "         1.35742383e+01,  3.64519906e+01,  9.56156762e+01,  2.51313736e+02,\n",
       "         6.86700420e+02]),\n",
       " array([-4.99991796e-01, -1.24995826e-01, -5.55316009e-02, -3.10232400e-02,\n",
       "        -1.83861770e-02,  5.79497380e-02,  4.12597950e-01,  1.56194452e+00,\n",
       "         4.82655024e+00,  1.35779105e+01,  3.64554371e+01,  9.56189346e+01,\n",
       "         2.51316827e+02,  6.86703347e+02])]"
      ]
     },
     "execution_count": 152,
     "metadata": {},
     "output_type": "execute_result"
    }
   ],
   "source": [
    "fromdimention10to20[0:5]"
   ]
  },
  {
   "cell_type": "code",
   "execution_count": 153,
   "metadata": {},
   "outputs": [
    {
     "data": {
      "text/plain": [
       "array([-4.99809815e-01,  2.28336366e-02,  1.49159796e+00,  8.95840331e+00,\n",
       "        6.06133586e+01])"
      ]
     },
     "execution_count": 153,
     "metadata": {},
     "output_type": "execute_result"
    }
   ],
   "source": [
    "calculated_hydrogen"
   ]
  },
  {
   "cell_type": "code",
   "execution_count": 154,
   "metadata": {},
   "outputs": [
    {
     "data": {
      "text/plain": [
       "[array([-0.49999163, -0.10446253,  0.27267269,  1.43827902,  4.7144611 ]),\n",
       " array([-0.49999178, -0.12478069, -0.0049777 ,  0.36001348,  1.51609363]),\n",
       " array([-0.49999179, -0.12499538, -0.05396289,  0.03552849,  0.39430902]),\n",
       " array([-0.4999918 , -0.12499581, -0.05550728, -0.02901216,  0.051677  ]),\n",
       " array([-0.4999918 , -0.12499583, -0.0555316 , -0.03102324, -0.01838618]),\n",
       " array([-0.4999918 , -0.12499583, -0.05553723, -0.03110563, -0.01949366]),\n",
       " array([-0.4999918 , -0.12499583, -0.055539  , -0.03112756, -0.01961313]),\n",
       " array([-0.4999918 , -0.12499583, -0.05553963, -0.03113495, -0.01964856]),\n",
       " array([-0.4999918 , -0.12499583, -0.05553986, -0.03113765, -0.01966101]),\n",
       " array([-0.4999918 , -0.12499583, -0.05553995, -0.03113866, -0.01966563]),\n",
       " array([-0.4999918 , -0.12499583, -0.05553999, -0.03113905, -0.01966738])]"
      ]
     },
     "execution_count": 154,
     "metadata": {},
     "output_type": "execute_result"
    }
   ],
   "source": [
    "[item[0:5] for item in fromdimention10to20]"
   ]
  },
  {
   "cell_type": "code",
   "execution_count": null,
   "metadata": {},
   "outputs": [],
   "source": []
  },
  {
   "cell_type": "code",
   "execution_count": null,
   "metadata": {},
   "outputs": [],
   "source": []
  }
 ],
 "metadata": {
  "kernelspec": {
   "display_name": "Python 3 (ipykernel)",
   "language": "python",
   "name": "python3"
  },
  "language_info": {
   "codemirror_mode": {
    "name": "ipython",
    "version": 3
   },
   "file_extension": ".py",
   "mimetype": "text/x-python",
   "name": "python",
   "nbconvert_exporter": "python",
   "pygments_lexer": "ipython3",
   "version": "3.10.11"
  }
 },
 "nbformat": 4,
 "nbformat_minor": 2
}
