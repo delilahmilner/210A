{
 "cells": [
  {
   "cell_type": "code",
   "execution_count": 1,
   "id": "77d338b9",
   "metadata": {},
   "outputs": [],
   "source": [
    "#%%                    Chem 210A  C.W. McCurdy\n",
    "#                         Jan  2019\n",
    "#        Examples with complex numbers in python\n",
    "#        and SymPy  as a starting point for problems\n",
    "#\n",
    "#  Note that SymPy is a bit clumsy, but we will occasionally make use\n",
    "#  of it for symbolic manipulation.  It's no replacement for Mathematica\n",
    "#\n",
    "# preliminaries to invoke sympy and numpy, not sympy is used here only\n",
    "# to define the value of pi, which can be done in other ways"
   ]
  },
  {
   "cell_type": "code",
   "execution_count": 4,
   "id": "1329c300",
   "metadata": {},
   "outputs": [
    {
     "name": "stderr",
     "output_type": "stream",
     "text": [
      "UsageError: unrecognized arguments: # datascience needs this\n"
     ]
    }
   ],
   "source": [
    "import numpy as np\n",
    "from sympy import * \n",
    "import matplotlib.pyplot as plt   # for plotting\n",
    "from datascience import*\n",
    "%matplotlib inline # datascience needs this\n",
    "plt.style.use('fast') # I dont like the default "
   ]
  },
  {
   "cell_type": "code",
   "execution_count": 3,
   "id": "95350122",
   "metadata": {},
   "outputs": [],
   "source": [
    "#\n",
    "#  simplify()frequently doesn't simplify powers and exponents unless \n",
    "#   the variables are real.  See the documentation on simplification\n",
    "#   of powers at http://docs.sympy.org/dev/tutorial/simplification.html\n",
    "#\n",
    "#Z = symbols('Z',real=True)\n",
    "#i, k, l, nbas  = symbols('i k l nbas',integer=True)\n",
    "#\n",
    "# *** Complex Arithemetic\n",
    "# with sympy imported in its entirety, j is a special symbol meaning sqrt(-1), \n",
    "# if it is preceeded by a number 3.0*j is not the same as 3.0j\n",
    "# to get just a factor of i=sqrt(-1), use 1j or 1.0j\n",
    "#\n",
    "# multiply and divide complex numbers"
   ]
  },
  {
   "cell_type": "code",
   "execution_count": 3,
   "id": "5fef7495",
   "metadata": {},
   "outputs": [
    {
     "name": "stdout",
     "output_type": "stream",
     "text": [
      "\n",
      " multiply and divide complex numbers \n",
      "\n",
      " (1.0 + 3.0j)*(1.0 -3.0j)) =  (10+0j)\n",
      "\n",
      " (1.0 + 3.0j)/(1.0 -3.0j)) =  (-0.7999999999999999+0.6j)\n",
      "\n",
      " exponentials \n",
      "\n",
      "  exp(1j*pi) =  exp(1.0*I*pi)\n",
      "\n",
      " simplify(exp(1j*pi))) gives:  -1\n"
     ]
    }
   ],
   "source": [
    "print(\"\\n multiply and divide complex numbers \")\n",
    "print( \"\\n (1.0 + 3.0j)*(1.0 -3.0j)) = \", (1.0 + 3.0j)*(1.0 -3.0j))\n",
    "print( \"\\n (1.0 + 3.0j)/(1.0 -3.0j)) = \", (1.0 + 3.0j)/(1.0 -3.0j))\n",
    "#  exponentials\n",
    "print(\"\\n exponentials \")\n",
    "print(\"\\n  exp(1j*pi) = \",exp(1j*pi))\n",
    "print(\"\\n simplify(exp(1j*pi))) gives: \",simplify(exp(1.0j*pi))) "
   ]
  },
  {
   "cell_type": "code",
   "execution_count": 5,
   "id": "0c991ffd",
   "metadata": {},
   "outputs": [],
   "source": [
    "#==============================================================================\n",
    "# time-dependent particle in a box example using complex valued wave functions\n",
    "#=============================================================================="
   ]
  },
  {
   "cell_type": "code",
   "execution_count": 5,
   "id": "54813c77",
   "metadata": {},
   "outputs": [],
   "source": [
    "L = symbols(' L ',real=True, positive=True)\n",
    "x, t= symbols(' x t ', real=True)\n",
    "n, m  = symbols('n m', integer=True, positive=True)  # note this must be integer, not int\n",
    "M = symbols(' M ',real=True, positive= True)\n",
    "h_bar = symbols(' h_bar ',real=True,positive=true)"
   ]
  },
  {
   "cell_type": "code",
   "execution_count": 7,
   "id": "25b48a40",
   "metadata": {},
   "outputs": [],
   "source": [
    "#\n",
    "# sometimes uses \"pretty print\" pprint() to make the results readable on \n",
    "#  the console or in spyder \n",
    "#\n",
    "pprint?"
   ]
  },
  {
   "cell_type": "code",
   "execution_count": 5,
   "id": "ba2b4cb8",
   "metadata": {},
   "outputs": [
    {
     "name": "stdout",
     "output_type": "stream",
     "text": [
      " 1.0⋅ⅈ⋅π\n",
      "ℯ       \n",
      "exp(1.0*I*pi)\n"
     ]
    }
   ],
   "source": [
    "pprint(exp(1j*pi))\n",
    "print(exp(1j*pi))\n",
    "# exp(1j*pi)"
   ]
  },
  {
   "cell_type": "code",
   "execution_count": 6,
   "id": "29ed64e7",
   "metadata": {},
   "outputs": [
    {
     "name": "stdout",
     "output_type": "stream",
     "text": [
      "\n",
      "Time-independent wave function is psi_m =  sqrt(2)*sin(pi*m*x/L)/sqrt(L)\n"
     ]
    }
   ],
   "source": [
    "def psi(n,L,x):\n",
    "    result = sqrt(2/L)*sin(n*pi*x/L)\n",
    "    return result\n",
    "\n",
    "print(\"\\nTime-independent wave function is psi_m = \", psi(m,L,x) )"
   ]
  },
  {
   "cell_type": "code",
   "execution_count": 7,
   "id": "c87e7436",
   "metadata": {},
   "outputs": [
    {
     "name": "stdout",
     "output_type": "stream",
     "text": [
      "\n",
      " Energy is (note case sensitivity m is not M):  E_m =  pi**2*h_bar**2*m**2/(2*L**2*M)\n"
     ]
    }
   ],
   "source": [
    "def Energy(n,L):\n",
    "    result = n**2 * pi**2 * h_bar**2/( 2*M*L**2 )\n",
    "    return result\n",
    "\n",
    "# note the case sensitivity of python\n",
    "print(\"\\n Energy is (note case sensitivity m is not M):  E_m = \",Energy(m,L))"
   ]
  },
  {
   "cell_type": "code",
   "execution_count": 8,
   "id": "77e5d57f",
   "metadata": {},
   "outputs": [
    {
     "name": "stdout",
     "output_type": "stream",
     "text": [
      "\n",
      "Time-independent wave function is Psi_n =  sqrt(2)*exp(-0.5*I*pi**2*h_bar*n**2*t/(L**2*M))*sin(pi*n*x/L)/sqrt(L)\n"
     ]
    }
   ],
   "source": [
    "def Psi(n,L,x,t):\n",
    "    result = psi(n,L,x)*exp(-1j*Energy(n,L)*t/h_bar)\n",
    "    return result\n",
    "\n",
    "print(\"\\nTime-independent wave function is Psi_n = \", Psi(n,L,x,t) )"
   ]
  },
  {
   "cell_type": "code",
   "execution_count": 7,
   "id": "ee750c44",
   "metadata": {},
   "outputs": [
    {
     "name": "stdout",
     "output_type": "stream",
     "text": [
      "\n",
      " |Psi_n(x,t)|**2 =  2*sin(pi*m*x/L)**2/L\n",
      "\n",
      " Psi_n(x,t)^* times Psi_n(x,t) =  2*sin(pi*m*x/L)**2/L\n"
     ]
    }
   ],
   "source": [
    "# two ways to compute |Psi|^2\n",
    "#\n",
    "absolute_value_sq = abs(Psi(m,L,x,t))**2\n",
    "print(\"\\n |Psi_n(x,t)|**2 = \",absolute_value_sq)\n",
    "#\n",
    "absolute_value = conjugate(Psi(m,L,x,t))*Psi(m,L,x,t)\n",
    "print(\"\\n Psi_n(x,t)^* times Psi_n(x,t) = \",absolute_value)"
   ]
  },
  {
   "cell_type": "code",
   "execution_count": 8,
   "id": "791282dd",
   "metadata": {},
   "outputs": [],
   "source": [
    "#==============================================================================\n",
    "# #  define a linear superposition of the ground and first excited state\n",
    "#=============================================================================="
   ]
  },
  {
   "cell_type": "code",
   "execution_count": 9,
   "id": "3a282034",
   "metadata": {},
   "outputs": [],
   "source": [
    "def Phi(L,x,t):\n",
    "    result = (1/sqrt(2))*(Psi(1,L,x,t) + 1j* Psi(2,L,x,t))\n",
    "    return result"
   ]
  },
  {
   "cell_type": "code",
   "execution_count": 13,
   "id": "c883ff75",
   "metadata": {},
   "outputs": [],
   "source": [
    "####### modified equation 1\n",
    "def Phi2(L,x,t):\n",
    "    exponent  = exp(pi*1j/4)\n",
    "    result = (1/sqrt(2))*(Psi(1,L,x,t) + exponent* Psi(2,L,x,t))\n",
    "    return result"
   ]
  },
  {
   "cell_type": "code",
   "execution_count": 9,
   "id": "637046ae",
   "metadata": {},
   "outputs": [],
   "source": [
    "####### modified equation 2\n",
    "def Phi3(L,x,t):\n",
    "    exponent  = exp(-1*pi*1j/4)\n",
    "    result = (1/sqrt(2))*(Psi(1,L,x,t) + exponent* Psi(2,L,x,t))\n",
    "    return result"
   ]
  },
  {
   "cell_type": "code",
   "execution_count": 67,
   "id": "9f64bde1",
   "metadata": {},
   "outputs": [
    {
     "name": "stdout",
     "output_type": "stream",
     "text": [
      "\n",
      "  time-dependent superposition of two particle in a box states \n",
      "\n",
      "   ⎛                  2                                   2                  ⎞\n",
      "   ⎜          -2.0⋅ⅈ⋅π ⋅h_bar⋅t                   -0.5⋅ⅈ⋅π ⋅h_bar⋅t          ⎟\n",
      "   ⎜          ──────────────────                  ──────────────────         ⎟\n",
      "   ⎜                  2                                   2                  ⎟\n",
      "   ⎜                 L ⋅M           ⎛2⋅π⋅x⎞              L ⋅M           ⎛π⋅x⎞⎟\n",
      "   ⎜1.0⋅√2⋅ⅈ⋅ℯ                  ⋅sin⎜─────⎟   √2⋅ℯ                  ⋅sin⎜───⎟⎟\n",
      "   ⎜                                ⎝  L  ⎠                             ⎝ L ⎠⎟\n",
      "√2⋅⎜─────────────────────────────────────── + ───────────────────────────────⎟\n",
      "   ⎝                   √L                                    √L              ⎠\n",
      "──────────────────────────────────────────────────────────────────────────────\n",
      "                                      2                                       \n",
      "\n",
      " complex test value still has h_bar and M as variables = Phi(2,1,.5) 0.5*sqrt(2)*exp(-0.0625*I*pi**2*h_bar/M)\n"
     ]
    }
   ],
   "source": [
    "print(\"\\n  time-dependent superposition of two particle in a box states \\n\")\n",
    "pprint(Phi(L,x,t))\n",
    "#\n",
    "print(\"\\n complex test value still has h_bar and M as variables = Phi(2,1,.5)\",Phi(2,1,.5))"
   ]
  },
  {
   "cell_type": "code",
   "execution_count": 16,
   "id": "5555aaae",
   "metadata": {},
   "outputs": [
    {
     "name": "stdout",
     "output_type": "stream",
     "text": [
      "\n",
      "  time-dependent superposition of two particle in a box states \n",
      "\n",
      "sqrt(2)*(1.0*sqrt(2)*I*exp(-2.0*I*pi**2*h_bar*t/(L**2*M))*sin(2*pi*x/L)/sqrt(L) + sqrt(2)*exp(-0.5*I*pi**2*h_bar*t/(L**2*M))*sin(pi*x/L)/sqrt(L))/2\n",
      "\n",
      " complex test value still has h_bar and M as variables = Phi(2,1,.5) 0.5*sqrt(2)*exp(-0.0625*I*pi**2*h_bar/M)\n"
     ]
    }
   ],
   "source": [
    "print(\"\\n  time-dependent superposition of two particle in a box states \\n\")\n",
    "print(Phi(L,x,t))\n",
    "#\n",
    "print(\"\\n complex test value still has h_bar and M as variables = Phi(2,1,.5)\",Phi(2,1,.5))"
   ]
  },
  {
   "cell_type": "code",
   "execution_count": 17,
   "id": "259ab835",
   "metadata": {},
   "outputs": [],
   "source": [
    "#%%\n",
    "#==============================================================================\n",
    "# plotting example: plot real and imaginary parts of  a function\n",
    "#==============================================================================\n",
    "#\n",
    "#  **** Make properly labeled graph and save it as .png or .pdf\n",
    "#  first make the arrays with x y points for each curve"
   ]
  },
  {
   "cell_type": "code",
   "execution_count": 13,
   "id": "e52999e0",
   "metadata": {},
   "outputs": [],
   "source": [
    "time = 5  # set the time\n",
    "time_string = str(time) # string for a plot label\n",
    "h_bar = 1  # use atomic units by setting h_bar = 1\n",
    "M = 1  #  mass of electron is 1 in atomic units\n",
    "npts = 50\n",
    "alen = 2.0\n",
    "dx = alen/(npts-1)\n",
    "xpts = []\n",
    "Phiptsre = []\n",
    "Phiptsim = []\n",
    "Phiptsabs = []\n",
    "for n in range(0,npts+1):\n",
    "    xpoint =  dx*n\n",
    "    xpts.append(xpoint)\n",
    "#  note use of N() to get a clean numerical value from the symbolic function\n",
    "    Phiptsim.append(im(N(Phi(alen,xpoint,time))))\n",
    "    Phiptsre.append(re(N(Phi(alen,xpoint,time))))\n",
    "    Phiptsabs.append(Abs(N(Phi(alen,xpoint,time))))  \n",
    "#\n",
    "# commands to specify elements of the plot\n",
    "#"
   ]
  },
  {
   "cell_type": "code",
   "execution_count": 36,
   "id": "9abccc84",
   "metadata": {},
   "outputs": [
    {
     "data": {
      "image/png": "[encoded data removed]",
      "text/plain": [
       "<Figure size 432x288 with 1 Axes>"
      ]
     },
     "metadata": {
      "needs_background": "light"
     },
     "output_type": "display_data"
    }
   ],
   "source": [
    "PIB = Table().with_columns(\"x\",xpts,\"Phiptsre\",Phiptsre,\"Phiptsim\",Phiptsim,\"Phiptsabs\",Phiptsabs)\n",
    "PIB.plot(0)"
   ]
  },
  {
   "cell_type": "code",
   "execution_count": 15,
   "id": "4fc2d016",
   "metadata": {},
   "outputs": [],
   "source": [
    "### 2\n",
    "time = 5  # set the time\n",
    "time_string = str(time) # string for a plot label\n",
    "h_bar = 1  # use atomic units by setting h_bar = 1\n",
    "M = 1  #  mass of electron is 1 in atomic units\n",
    "npts = 50\n",
    "alen = 2.0\n",
    "dx = alen/(npts-1)\n",
    "xpts = []\n",
    "Phiptsre2 = []\n",
    "Phiptsim2 = []\n",
    "Phiptsabs2 = []\n",
    "for n in range(0,npts+1):\n",
    "    xpoint =  dx*n\n",
    "    xpts.append(xpoint)\n",
    "#  note use of N() to get a clean numerical value from the symbolic function\n",
    "    Phiptsim2.append(im(N(Phi2(alen,xpoint,time))))\n",
    "    Phiptsre2.append(re(N(Phi2(alen,xpoint,time))))\n",
    "    Phiptsabs2.append(Abs(N(Phi2(alen,xpoint,time))))  \n",
    "#\n",
    "# commands to specify elements of the plot\n",
    "#"
   ]
  },
  {
   "cell_type": "code",
   "execution_count": 10,
   "id": "cd94586a",
   "metadata": {},
   "outputs": [],
   "source": [
    "#### 3 \n",
    "time = 5  # set the time\n",
    "time_string = str(time) # string for a plot label\n",
    "h_bar = 1  # use atomic units by setting h_bar = 1\n",
    "M = 1  #  mass of electron is 1 in atomic units\n",
    "npts = 50\n",
    "alen = 2.0\n",
    "dx = alen/(npts-1)\n",
    "xpts = []\n",
    "Phiptsre3 = []\n",
    "Phiptsim3 = []\n",
    "Phiptsabs3 = []\n",
    "for n in range(0,npts+1):\n",
    "    xpoint =  dx*n\n",
    "    xpts.append(xpoint)\n",
    "#  note use of N() to get a clean numerical value from the symbolic function\n",
    "    Phiptsim3.append(im(N(Phi3(alen,xpoint,time))))\n",
    "    Phiptsre3.append(re(N(Phi3(alen,xpoint,time))))\n",
    "    Phiptsabs3.append(Abs(N(Phi3(alen,xpoint,time))))  \n",
    "#\n",
    "# commands to specify elements of the plot\n",
    "#"
   ]
  },
  {
   "cell_type": "code",
   "execution_count": 14,
   "id": "0512ae35",
   "metadata": {},
   "outputs": [
    {
     "name": "stdout",
     "output_type": "stream",
     "text": [
      "\n",
      " close figure window to proceed\n"
     ]
    },
    {
     "name": "stderr",
     "output_type": "stream",
     "text": [
      "C:\\psi4conda\\envs\\p4env\\lib\\site-packages\\ipykernel_launcher.py:18: UserWarning: Matplotlib is currently using agg, which is a non-GUI backend, so cannot show the figure.\n"
     ]
    }
   ],
   "source": [
    "plt.xlabel(\" x (bohr) \",fontsize=16,fontweight='bold')\n",
    "plt.ylabel(\" Phi(t) \",fontsize=16,fontweight='bold') \n",
    "plt.xlim(0,alen)   # x limits specified, y limits could be specified too\n",
    "#  the plotted lines themselves\n",
    "plt.plot(xpts,Phiptsre,'-r',label=\"re[Phi(t =\"+time_string+\")]\")\n",
    "plt.plot(xpts,Phiptsim,'-b',label=\"im[Phi(t =\"+time_string+\")]\")\n",
    "plt.plot(xpts,Phiptsabs,'k',label=\"abs[Phi(t =\"+time_string+\")]\")\n",
    "#\n",
    "plt.legend(loc=\"best\")  # add the legends after the curves are plotted\n",
    "plt.plot([0,alen],[0,0],'k')  # put in a line at the value Phi = 0\n",
    "\n",
    "\n",
    "plt.suptitle('Particle-in-a-box', fontsize=16, fontweight='bold')\n",
    "plt.savefig('P_in_box_time_dep'+time_string+'.pdf', transparent=False)\n",
    "\n",
    "# plt.savefig('problem_set_3_figure_'+number_string+'.png', transparent=False)\n",
    "print(\"\\n close figure window to proceed\")\n",
    "plt.show()\n",
    "exit()"
   ]
  },
  {
   "cell_type": "code",
   "execution_count": 16,
   "id": "7adb3af7",
   "metadata": {},
   "outputs": [
    {
     "name": "stdout",
     "output_type": "stream",
     "text": [
      "\n",
      " close figure window to proceed\n"
     ]
    },
    {
     "name": "stderr",
     "output_type": "stream",
     "text": [
      "C:\\psi4conda\\envs\\p4env\\lib\\site-packages\\ipykernel_launcher.py:19: UserWarning: Matplotlib is currently using agg, which is a non-GUI backend, so cannot show the figure.\n"
     ]
    }
   ],
   "source": [
    "# for 2\n",
    "plt.xlabel(\" x (bohr) \",fontsize=16,fontweight='bold')\n",
    "plt.ylabel(\" Phi(t) \",fontsize=16,fontweight='bold') \n",
    "plt.xlim(0,alen)   # x limits specified, y limits could be specified too\n",
    "#  the plotted lines themselves\n",
    "plt.plot(xpts,Phiptsre2,'-r',label=\"re[Phi(t =\"+time_string+\")]\")\n",
    "plt.plot(xpts,Phiptsim2,'-b',label=\"im[Phi(t =\"+time_string+\")]\")\n",
    "plt.plot(xpts,Phiptsabs2,'k',label=\"abs[Phi(t =\"+time_string+\")]\")\n",
    "#\n",
    "plt.legend(loc=\"best\")  # add the legends after the curves are plotted\n",
    "plt.plot([0,alen],[0,0],'k')  # put in a line at the value Phi = 0\n",
    "\n",
    "\n",
    "plt.suptitle('Particle-in-a-box_2', fontsize=16, fontweight='bold')\n",
    "plt.savefig('P_in_box_time_dep_2'+time_string+'.pdf', transparent=False)\n",
    "\n",
    "# plt.savefig('problem_set_3_figure_'+number_string+'.png', transparent=False)\n",
    "print(\"\\n close figure window to proceed\")\n",
    "plt.show()\n",
    "exit()"
   ]
  },
  {
   "cell_type": "code",
   "execution_count": 11,
   "id": "cde7e03b",
   "metadata": {},
   "outputs": [
    {
     "name": "stdout",
     "output_type": "stream",
     "text": [
      "\n",
      " close figure window to proceed\n"
     ]
    },
    {
     "name": "stderr",
     "output_type": "stream",
     "text": [
      "C:\\psi4conda\\envs\\p4env\\lib\\site-packages\\ipykernel_launcher.py:19: UserWarning: Matplotlib is currently using agg, which is a non-GUI backend, so cannot show the figure.\n"
     ]
    }
   ],
   "source": [
    "# for 3 \n",
    "plt.xlabel(\" x (bohr) \",fontsize=16,fontweight='bold')\n",
    "plt.ylabel(\" Phi(t) \",fontsize=16,fontweight='bold') \n",
    "plt.xlim(0,alen)   # x limits specified, y limits could be specified too\n",
    "#  the plotted lines themselves\n",
    "plt.plot(xpts,Phiptsre3,'-r',label=\"re[Phi(t =\"+time_string+\")]\")\n",
    "plt.plot(xpts,Phiptsim3,'-b',label=\"im[Phi(t =\"+time_string+\")]\")\n",
    "plt.plot(xpts,Phiptsabs3,'k',label=\"abs[Phi(t =\"+time_string+\")]\")\n",
    "#\n",
    "plt.legend(loc=\"best\")  # add the legends after the curves are plotted\n",
    "plt.plot([0,alen],[0,0],'k')  # put in a line at the value Phi = 0\n",
    "\n",
    "\n",
    "plt.suptitle('Particle-in-a-box3', fontsize=16, fontweight='bold')\n",
    "plt.savefig('P_in_box_time_dep3'+time_string+'.pdf', transparent=False)\n",
    "\n",
    "# plt.savefig('problem_set_3_figure_'+number_string+'.png', transparent=False)\n",
    "print(\"\\n close figure window to proceed\")\n",
    "plt.show()\n",
    "exit()"
   ]
  },
  {
   "cell_type": "code",
   "execution_count": null,
   "id": "899a4a6a",
   "metadata": {},
   "outputs": [],
   "source": []
  },
  {
   "cell_type": "code",
   "execution_count": null,
   "id": "8215d80d",
   "metadata": {},
   "outputs": [],
   "source": []
  }
 ],
 "metadata": {
  "kernelspec": {
   "display_name": "Python 3 (ipykernel)",
   "language": "python",
   "name": "python3"
  },
  "language_info": {
   "codemirror_mode": {
    "name": "ipython",
    "version": 3
   },
   "file_extension": ".py",
   "mimetype": "text/x-python",
   "name": "python",
   "nbconvert_exporter": "python",
   "pygments_lexer": "ipython3",
   "version": "3.10.11"
  }
 },
 "nbformat": 4,
 "nbformat_minor": 5
}
