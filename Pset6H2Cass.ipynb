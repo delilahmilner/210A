{
 "cells": [
  {
   "cell_type": "code",
   "execution_count": 2,
   "metadata": {},
   "outputs": [],
   "source": [
    "#%%\n",
    "#            Chem 210A  2019  Prof. McCurdy\n",
    "#\n",
    "\"\"\"  Template for calculating a potential curve for a diatomic or one degree of freedom \n",
    "      for a polyatomic molecule\n",
    "\n",
    "        using psi4 as a python module\n",
    "  \n",
    "    Starting point for Chem 210A problems -- CWM January 7, 2019\n",
    "\n",
    "    This example does Hartree-Fock on H2\n",
    "    \n",
    "    Minor changes allow MP2 and CISD calculations on this and other diatomics\n",
    "    With suitable modifications in the geometry specification \n",
    "    this template can be used to calculate a bond \n",
    "    stretching curve for a polyatomic\n",
    "    \n",
    "\"\"\"\n",
    "\n",
    "#%%\n",
    "#                    IMPORT MODULES\n",
    "#\n",
    "import psi4  #  import all of psi4\n",
    "#  regular expression library is used for replacing strings with numbers in geometry specification\n",
    "import re as re  # regular expression library \n",
    "# numpy library is used for all numerical calculations in python that we program specifically here \n",
    "import numpy as np # numpy library for numerical calculations\n",
    "import os     # operating system commands for manipulating files\n",
    "import matplotlib.pyplot as plt  \n",
    "from datascience import *\n",
    "%matplotlib inline\n",
    "plt.style.use('fast')"
   ]
  },
  {
   "cell_type": "code",
   "execution_count": 3,
   "metadata": {},
   "outputs": [
    {
     "name": "stdout",
     "output_type": "stream",
     "text": [
      "psi4 output is directed to  output_potential_curve.txt \n",
      "\n"
     ]
    }
   ],
   "source": [
    "#                 SET MEMORY\n",
    "#\n",
    "psi4.set_memory('2048 MB')     # minimum memory should be 1/2 GB, 2GB or greater is better\n",
    "#\n",
    "#\n",
    "#        SET FILE NAMES FOR OUTPUT FILES \n",
    "#         change names between runs to save them\n",
    "#\n",
    "#  File for output from Psi4 is a  .txt file \n",
    "file_string_output = 'output_potential_curve.txt'  # output file\n",
    "#  molden output must be a .molden file\n",
    "molden_file_name = \"diatomic_scf.molden\"   # molden file \n",
    "#  File for plotting potential curve \n",
    "plot_file_name = 'potcurve.dat'      # plotting file\n",
    "#\n",
    "# remove these files, especially the molden file if it exists\n",
    "# to prevent psi4 from appending to existing file\n",
    "if os.path.exists(molden_file_name):\n",
    "  os.remove(molden_file_name)\n",
    "if os.path.exists(plot_file_name):\n",
    "  os.remove(plot_file_name)\n",
    "if os.path.exists(file_string_output):\n",
    "  os.remove(file_string_output)\n",
    "psi4.core.set_output_file(file_string_output,False) \n",
    "print(\"psi4 output is directed to \",file_string_output,\"\\n\")\n",
    "#%%\n",
    "# "
   ]
  },
  {
   "cell_type": "code",
   "execution_count": 4,
   "metadata": {},
   "outputs": [],
   "source": [
    "#                   SPECIFY GEOMETRY PYTHON OBJECT\n",
    "#\n",
    "# R_value  =  the internuclear distance in a0\n",
    "# and must be replaced by a number using the regular expression functions\n",
    "# in the for loop on distances.\n",
    "#\n",
    "# Specifying cartesian coordinates in this example\n",
    "# Types of atoms are specified by chemical symbol\n",
    "# First line is charge and spin multiplicity \n",
    "# 0 1 => neutral  singlet \n",
    "# 0 3 => neutral triplet and requires ROHF ('rohf' reference for 'scf' below)\n",
    "# c1 = C_1 symmetry (no symmetry) OK for RHF (and necessary for unrestricted Hartree-Fock (UHF))\n",
    "# d2h => is fastest for homonuclear diatomics.  Irreps are (in this order in some commands for open shell systems)\n",
    "#   Ag   B1g   B2g   B3g    Au   B1u   B2u   B3u \n",
    "# c2v => is fastest for heteronuclear diatomics.  Irreps are (in this order in some commands for open shell systems)#\n",
    "#   A1    A2    B1    B2 \n",
    "#"
   ]
  },
  {
   "cell_type": "code",
   "execution_count": 5,
   "metadata": {},
   "outputs": [
    {
     "name": "stdout",
     "output_type": "stream",
     "text": [
      "\n",
      "      0 1 \n",
      "      H  0.0 0.0 0.0 \n",
      "      H  0.0 0.0 R_value \n",
      "    units bohr\n",
      "    symmetry d2h  \n"
     ]
    }
   ],
   "source": [
    "molecular_geometry  =  \"\"\"\n",
    "      0 1 \n",
    "      H  0.0 0.0 0.0 \n",
    "      H  0.0 0.0 R_value \n",
    "    units bohr\n",
    "    symmetry d2h  \"\"\"\n",
    "\n",
    "#   print the geometry template\n",
    "print(molecular_geometry)\n",
    "#"
   ]
  },
  {
   "cell_type": "code",
   "execution_count": 6,
   "metadata": {},
   "outputs": [],
   "source": [
    "#  psi4 options that do not change with R value\n",
    "# \n",
    "#                               BASIS SET\n",
    "#  cc-pVDZ is a small correlation consistent Dunning basis - good for first calculation.\n",
    "#  (Sometimes won't be  good enough for Chem 210A final answers\n",
    "#  see Psi4 manual for many other built-in basis sets\n",
    "#\n",
    "psi4.set_options({'basis': 'cc-pvTZ'}) \n",
    "#\n",
    "#                        METHOD (OR REFERENCE METHOD for MP2, CISD or CCSD)\n",
    "#   Method, and/or  reference for CI or MP2 calculations is set here\n",
    "# \"rhf\" for restricted HF for closed shells, \n",
    "# \"rohf\" for restricted open-shell HF for open shells, like triplets, requires other options to be set \n",
    "psi4.set_options({\"reference\": \"rohf\"})  \n",
    "#  scf_type is a keyword that controls the algorithm for handling the four-index electron repulsion integrals.  \n",
    "# 'pk' is a safe out-of-core algorithm using exact electron repulsion integrals.  \n",
    "# 'df' denotes a density-fitted algorithm designed for computations with thousands of basis functions. \n",
    "#  It is required for MP2 (Moller-Plesset 2nd order perturbation theory)\n",
    "psi4.set_options({'scf_type': 'pk'}) \n",
    "#\n",
    "#                          SCF INITIAL GUESS\n",
    "#  Initial guess options for SCF, very important for UHF and sometimes ROHF or RHF\n",
    "#  RHF is usually not difficult to converge.\n",
    "#\n",
    "#psi4.set_options({'guess': 'read'})  #  can be used to follow a solution for difficult cases as R changes\n",
    "#                                 #  if we run an initial point before the loop on R with another option\n",
    "#                                 #  then set guess: 'read' before starting the loop which is used for subsequent points\n",
    "#   guess: 'core' good for closed shell restricted Hartree-Fock \n",
    "psi4.set_options({'guess': 'core'})    # diagonalize core (nuclear attraction only) Hamiltonian for guess\n",
    "#\n",
    "#  some other guess options that help converge rohf and some rhf  calculations \n",
    "#psi4.set_options({'guess': 'sad'})    # superposition of atomic densities (SAD) guess\n",
    "#psi4.set_options({'guess': 'gwh'})    # generalized Wolfsberg-Helmholz Huckel-like guess\n",
    "psi4.set_options({\"MCSCF_MAXITER\":100})    # If near 500 iterations are necessary, calculation is on the edge of failure\n",
    "psi4.set_options({'DIAG_METHOD':'RSP'})    # RSP form the entire H matrix and diagonalize using libciomr to obtain all eigenvalues \n",
    "                                           # found necessary for some 2 x 2 cases like sigma_g^2 + sigma_u^2 for H2\n",
    "#%%\n",
    "#"
   ]
  },
  {
   "cell_type": "code",
   "execution_count": 7,
   "metadata": {},
   "outputs": [
    {
     "name": "stdout",
     "output_type": "stream",
     "text": [
      "\n",
      " Single point calculation at R =  1.4    psi4 scf energy =  -1.1690137515655958\n",
      " Writing molden file  diatomic_scf.molden\n"
     ]
    }
   ],
   "source": [
    "#    set the active space for CAS SCF for either single point or curve calculations\n",
    "#   order of  symmetries in C2v A1    A2    B1    B2  -- see above\n",
    "#                        in D2h Ag   B1g   B2g   B3g    Au   B1u   B2u   B3u\n",
    "#   CASSCF can be done in either symmtery, but D2h allows explicit sigma_g^2 + sigma_u^2 configurations\n",
    "psi4.set_options({'ACTIVE':[2,0,0,0,0,1,1,1]}) # sigma_g is in Ag, sigm_u is in B1u in D2h\n",
    "#\n",
    "#                SINGLE POINT CALCULATION \n",
    "#      uncomment to do single point calculations \n",
    "#\n",
    "R = 1.4\n",
    "molecular_geometry_R = re.sub(\"R_value\",str(R),molecular_geometry)\n",
    "scf_energy, wfcn = psi4.energy('casscf',molecule=psi4.geometry(molecular_geometry_R),return_wfn=True)\n",
    "print(\"\\n Single point calculation at R = \",R,\"   psi4 scf energy = \", scf_energy)\n",
    "print(\" Writing molden file \",molden_file_name)\n",
    "psi4.molden(wfcn,molden_file_name)\n",
    "#exit()"
   ]
  },
  {
   "cell_type": "code",
   "execution_count": 8,
   "metadata": {},
   "outputs": [],
   "source": [
    "#%%\n",
    "#                    POTENTIAL CURVE CALCULATION\n",
    "#\n",
    "#  parameters for the curve\n",
    "#\n",
    "N_Rvals = 91  # when debugging use a small number of R values\n",
    "Rmin = 0.8    # use a larger or smaller Rmin for some molecules (using bohr here) \n",
    "Rmax = 10.0\n",
    "dr = (Rmax-Rmin)/(N_Rvals-1)\n",
    "#"
   ]
  },
  {
   "cell_type": "code",
   "execution_count": 9,
   "metadata": {},
   "outputs": [
    {
     "name": "stdout",
     "output_type": "stream",
     "text": [
      "\n",
      " ** Beginning potential curve calculation ** \n",
      "\n",
      "R =  0.8  scf energy =   -1.0119424184524852\n",
      "R =  0.9022222222222223  scf energy =   -1.0775678248883283\n",
      "R =  1.0044444444444445  scf energy =   -1.1193893148574081\n",
      "R =  1.1066666666666667  scf energy =   -1.145201288802327\n",
      "R =  1.208888888888889  scf energy =   -1.1600225290775485\n",
      "R =  1.3111111111111111  scf energy =   -1.1671960781898514\n",
      "R =  1.4133333333333333  scf energy =   -1.1690077647772412\n",
      "R =  1.5155555555555555  scf energy =   -1.167053363914174\n",
      "R =  1.6177777777777778  scf energy =   -1.1624659309362135\n",
      "R =  1.72  scf energy =   -1.1560614482516258\n",
      "R =  1.8222222222222222  scf energy =   -1.1484350142141777\n",
      "R =  1.9244444444444444  scf energy =   -1.1400258199880706\n",
      "R =  2.0266666666666664  scf energy =   -1.1311616051722986\n",
      "R =  2.1288888888888886  scf energy =   -1.1220893283179882\n",
      "R =  2.231111111111111  scf energy =   -1.112996500204114\n",
      "R =  2.333333333333333  scf energy =   -1.1040261435908834\n",
      "R =  2.4355555555555553  scf energy =   -1.0952873690933802\n",
      "R =  2.5377777777777775  scf energy =   -1.0868629355854118\n",
      "R =  2.6399999999999997  scf energy =   -1.0788147323991275\n",
      "R =  2.742222222222222  scf energy =   -1.0711878370073684\n",
      "R =  2.844444444444444  scf energy =   -1.0640135131150597\n",
      "R =  2.9466666666666663  scf energy =   -1.057311552292733\n",
      "R =  3.0488888888888885  scf energy =   -1.0510920384675786\n",
      "R =  3.1511111111111108  scf energy =   -1.0453567582000816\n",
      "R =  3.253333333333333  scf energy =   -1.0401004004013144\n",
      "R =  3.355555555555555  scf energy =   -1.0353115916265572\n",
      "R =  3.4577777777777774  scf energy =   -1.0294630659333597\n",
      "R =  3.5599999999999996  scf energy =   -1.025697978743874\n",
      "R =  3.662222222222222  scf energy =   -1.022332994952571\n",
      "R =  3.764444444444444  scf energy =   -1.0193413602986205\n",
      "R =  3.8666666666666663  scf energy =   -1.0166948002795695\n",
      "R =  3.9688888888888885  scf energy =   -1.0143643365104098\n",
      "R =  4.071111111111111  scf energy =   -1.012321023779995\n",
      "R =  4.173333333333333  scf energy =   -1.010536604510213\n",
      "R =  4.275555555555555  scf energy =   -1.0089838709125754\n",
      "R =  4.377777777777777  scf energy =   -1.0076372828098985\n",
      "R =  4.4799999999999995  scf energy =   -1.006472892316549\n",
      "R =  4.582222222222222  scf energy =   -1.0054689130601517\n",
      "R =  4.684444444444444  scf energy =   -1.0046053062926457\n",
      "R =  4.786666666666666  scf energy =   -1.003864036814138\n",
      "R =  4.888888888888888  scf energy =   -1.0032290123476444\n",
      "R =  4.991111111111111  scf energy =   -1.0026860424273667\n",
      "R =  5.093333333333333  scf energy =   -1.0022224018964128\n",
      "R =  5.195555555555555  scf energy =   -1.0018270538508522\n",
      "R =  5.297777777777777  scf energy =   -1.0014903075045276\n",
      "R =  5.3999999999999995  scf energy =   -1.0012022656114525\n",
      "R =  5.502222222222222  scf energy =   -1.000959174485365\n",
      "R =  5.604444444444444  scf energy =   -1.0007527490161836\n",
      "R =  5.706666666666666  scf energy =   -1.0005782266489598\n",
      "R =  5.808888888888888  scf energy =   -1.0004296519454754\n",
      "R =  5.9111111111111105  scf energy =   -1.0003037768891414\n",
      "R =  6.013333333333333  scf energy =   -1.000197213762828\n",
      "R =  6.115555555555555  scf energy =   -1.0001070675618031\n",
      "R =  6.217777777777777  scf energy =   -1.0000308666571356\n",
      "R =  6.319999999999999  scf energy =   -0.9999665019264323\n",
      "R =  6.422222222222222  scf energy =   -0.999912175217178\n",
      "R =  6.524444444444444  scf energy =   -0.9998663541091634\n",
      "R =  6.626666666666666  scf energy =   -0.999827733359397\n",
      "R =  6.728888888888888  scf energy =   -0.9997952019231519\n",
      "R =  6.8311111111111105  scf energy =   -0.9997678147789587\n",
      "R =  6.933333333333333  scf energy =   -0.9997447688601272\n",
      "R =  7.035555555555555  scf energy =   -0.999725382477767\n",
      "R =  7.137777777777777  scf energy =   -0.9997090777039673\n",
      "R =  7.239999999999999  scf energy =   -0.9996953652640432\n",
      "R =  7.3422222222222215  scf energy =   -0.9996838315598021\n",
      "R =  7.444444444444444  scf energy =   -0.999674127509604\n",
      "R =  7.546666666666666  scf energy =   -0.999665958945021\n",
      "R =  7.648888888888888  scf energy =   -0.9996590783480964\n",
      "R =  7.75111111111111  scf energy =   -0.9996532777486884\n",
      "R =  7.853333333333333  scf energy =   -0.9996483825924689\n",
      "R =  7.955555555555555  scf energy =   -0.9996442464646091\n",
      "R =  8.057777777777778  scf energy =   -0.9996407474089817\n",
      "R =  8.16  scf energy =   -0.999637782211056\n",
      "R =  8.262222222222222  scf energy =   -0.9996352655517879\n",
      "R =  8.364444444444445  scf energy =   -0.9996331256728274\n",
      "R =  8.466666666666667  scf energy =   -0.9996313025794783\n",
      "R =  8.568888888888889  scf energy =   -0.9996297461190216\n",
      "R =  8.671111111111111  scf energy =   -0.9996284143842415\n",
      "R =  8.773333333333333  scf energy =   -0.9996272723486777\n",
      "R =  8.875555555555556  scf energy =   -0.9996262906854144\n",
      "R =  8.977777777777778  scf energy =   -0.9996254448516603\n",
      "R =  9.08  scf energy =   -0.999624714296963\n",
      "R =  9.182222222222222  scf energy =   -0.9996240813357355\n",
      "R =  9.284444444444444  scf energy =   -0.999623532489966\n",
      "R =  9.386666666666667  scf energy =   -0.9996230551986105\n",
      "R =  9.488888888888889  scf energy =   -0.9996226392737567\n",
      "R =  9.591111111111111  scf energy =   -0.9996222756441453\n",
      "R =  9.693333333333333  scf energy =   -0.9996219575900166\n",
      "R =  9.795555555555556  scf energy =   -0.9996216792929866\n",
      "R =  9.897777777777778  scf energy =   -0.9996214345512964\n",
      "R =  10.0  scf energy =   -0.9996212203133888\n"
     ]
    }
   ],
   "source": [
    "#  arrays for the R values and energies\n",
    "#\n",
    "Rvals=[]\n",
    "Calculated_Energies=[]\n",
    "#\n",
    "#%%\n",
    "#\n",
    "# LOOP over R values \n",
    "#\n",
    "print(\"\\n ** Beginning potential curve calculation ** \\n\")\n",
    "for n in range(N_Rvals):\n",
    "    R = Rmin + n*dr\n",
    "#\n",
    "# The following command substitutes a string made from the value of the\n",
    "# variable R for the the string \"R_value\" in the python object molecular_geometry\n",
    "# to make a new object molecular_geometry_R .  It can be applied several times\n",
    "# in succession, renaming the result each time, to replace several \n",
    "# strings to create a new geometry object\n",
    "#\n",
    "    molecular_geometry_R = re.sub(\"R_value\",str(R),molecular_geometry)\n",
    "#\n",
    "#    print(molecular_geometry_R)  # print current geometry -- uncomment for debugging\n",
    "#\n",
    "#  method is specified here 'scf' assumes a reference to have been set\n",
    "#  rhf,  rohf or uhf for example\n",
    "#  'mp2'  also requires a reference (like rhf) as does 'cisd'\n",
    "#\n",
    "#               SCF calculation at this R point \n",
    "    psi4.set_options({'guess': 'read'})    # \n",
    "    scf_energy=psi4.energy('casscf',molecule=psi4.geometry(molecular_geometry_R) )\n",
    "    print(\"R = \",R,\" scf energy =  \", scf_energy)\n",
    "    Rvals.append(R)\n",
    "    Calculated_Energies.append(scf_energy)\n",
    "#\n",
    "#  for loop ends here\n",
    "##"
   ]
  },
  {
   "cell_type": "code",
   "execution_count": 10,
   "metadata": {},
   "outputs": [
    {
     "name": "stdout",
     "output_type": "stream",
     "text": [
      "\n",
      " Making plot file named  potcurve.dat\n"
     ]
    }
   ],
   "source": [
    "#%%\n",
    "#                   MAKE OUTPUT FILE FOR PLOTTING\n",
    "#  at the end of the for loop both print and make a file\n",
    "#  containing the scf energies\n",
    "#\n",
    "f = open(plot_file_name,'w')  # optionally rename this file for the case at hand\n",
    "print(\"\\n Making plot file named \",plot_file_name)\n",
    "for n in range(N_Rvals):\n",
    "    print(Rvals[n],\"   \",Calculated_Energies[n],file=f)\n",
    "#   print(Rvals[n],\"   \",Calculated_Energies[n]) # echo plotting output to console\n",
    "#\n",
    "#%%"
   ]
  },
  {
   "cell_type": "code",
   "execution_count": 11,
   "metadata": {},
   "outputs": [
    {
     "data": {
      "image/png": "[encoded data removed]",
      "text/plain": [
       "<Figure size 432x288 with 1 Axes>"
      ]
     },
     "metadata": {
      "needs_background": "light"
     },
     "output_type": "display_data"
    }
   ],
   "source": [
    "three_sigma_2pi= Table().with_columns(\"R\",Rvals,\"energy\",Calculated_Energies)\n",
    "three_sigma_2pi.plot(0)"
   ]
  },
  {
   "cell_type": "code",
   "execution_count": 11,
   "metadata": {},
   "outputs": [],
   "source": [
    "#\n",
    "#  MAKE PLOTS FROM THE OUTPUT FILE OR PUT PLOTTING COMMANDS HERE\n",
    "#  FOR A PROPERLY LABELED GRAPH \n",
    "#  plotting with xmgrace is recommended, and easier than plotting\n",
    "#  several cases from this python script\n",
    "#\n",
    "exit()\n"
   ]
  },
  {
   "cell_type": "code",
   "execution_count": null,
   "metadata": {},
   "outputs": [],
   "source": []
  }
 ],
 "metadata": {
  "kernelspec": {
   "display_name": "Python 3 (ipykernel)",
   "language": "python",
   "name": "python3"
  },
  "language_info": {
   "codemirror_mode": {
    "name": "ipython",
    "version": 3
   },
   "file_extension": ".py",
   "mimetype": "text/x-python",
   "name": "python",
   "nbconvert_exporter": "python",
   "pygments_lexer": "ipython3",
   "version": "3.10.11"
  }
 },
 "nbformat": 4,
 "nbformat_minor": 2
}
